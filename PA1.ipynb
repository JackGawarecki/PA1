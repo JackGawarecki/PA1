{
 "cells": [
  {
   "cell_type": "markdown",
   "id": "83ecb396",
   "metadata": {},
   "source": [
    "# Programming Assignment 1\n",
    "## Jackson Gawarecki\n",
    "### CS150 Computer Programming for Liberal Arts\n",
    "#### Fall 2021"
   ]
  },
  {
   "cell_type": "code",
   "execution_count": 16,
   "id": "a31d05d8",
   "metadata": {},
   "outputs": [
    {
     "name": "stdout",
     "output_type": "stream",
     "text": [
      "Insert a Floating Point Number: 44.3\n",
      "Insert an Integer: 16\n",
      "The Sum is 60.3\n",
      "The difference is 28.299999999999997\n",
      "The product is 708.8\n",
      "The quotient is 2.76875\n"
     ]
    }
   ],
   "source": [
    "x=float(input('Insert a Floating Point Number: '))\n",
    "y=int(input('Insert an Integer: '))\n",
    "print('The Sum is', x+y)\n",
    "print('The difference is', x-y)\n",
    "print('The product is', x*y)\n",
    "print('The quotient is', x/y)"
   ]
  },
  {
   "cell_type": "code",
   "execution_count": null,
   "id": "ee4b1ab2",
   "metadata": {},
   "outputs": [],
   "source": []
  }
 ],
 "metadata": {
  "kernelspec": {
   "display_name": "Python 3",
   "language": "python",
   "name": "python3"
  },
  "language_info": {
   "codemirror_mode": {
    "name": "ipython",
    "version": 3
   },
   "file_extension": ".py",
   "mimetype": "text/x-python",
   "name": "python",
   "nbconvert_exporter": "python",
   "pygments_lexer": "ipython3",
   "version": "3.8.8"
  }
 },
 "nbformat": 4,
 "nbformat_minor": 5
}
